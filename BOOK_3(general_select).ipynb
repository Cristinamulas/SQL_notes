{
 "cells": [
  {
   "cell_type": "markdown",
   "metadata": {},
   "source": [
    "## Where Clause"
   ]
  },
  {
   "cell_type": "code",
   "execution_count": null,
   "metadata": {},
   "outputs": [],
   "source": [
    "SELECT * FROM table\n",
    "WHERE col_name = 'string';\n",
    "\n",
    "SELECT * FROM table\n",
    "WHERE col_name = 5;\n",
    "\n",
    "SELECT * FROM table\n",
    "WHERE col_name = 5 and col_name = 9; \n",
    "\n",
    "SELECT * FROM table\n",
    "WHERE col_name = 'string' or col_name = 'string'; \n",
    "\n",
    "SELECT * FROM table\n",
    "WHERE col_name = 5 or col_name = 'string';"
   ]
  },
  {
   "cell_type": "markdown",
   "metadata": {},
   "source": [
    "## Inequality Symbols"
   ]
  },
  {
   "cell_type": "code",
   "execution_count": null,
   "metadata": {},
   "outputs": [],
   "source": [
    "> # greater than\n",
    ">= # greater than or equal to\n",
    "< # less\n",
    "<= # less than or equal to"
   ]
  },
  {
   "cell_type": "markdown",
   "metadata": {},
   "source": [
    "## Null Values"
   ]
  },
  {
   "cell_type": "code",
   "execution_count": null,
   "metadata": {},
   "outputs": [],
   "source": [
    "SELECT * FROM table\n",
    "WHERE col_name IS NULL; # returns null values\n",
    "\n",
    "SELECT * FROM table\n",
    "WHERE col_name IS NOT NULL; # != null values\n",
    "\n",
    "\n"
   ]
  },
  {
   "cell_type": "markdown",
   "metadata": {},
   "source": [
    "## In, Not In"
   ]
  },
  {
   "cell_type": "code",
   "execution_count": null,
   "metadata": {},
   "outputs": [],
   "source": [
    "SELECT * FROM table\n",
    "WHERE col_name IN('string', 'string'); # two or more values\n",
    "\n",
    "SELECT * FROM table\n",
    "WHERE col_name IN(1, 2);\n",
    "\n",
    "WHERE col_name NOT IN(1, 2); # != [1,2]"
   ]
  },
  {
   "cell_type": "markdown",
   "metadata": {},
   "source": [
    "## Between (range)"
   ]
  },
  {
   "cell_type": "code",
   "execution_count": null,
   "metadata": {},
   "outputs": [],
   "source": [
    "SELECT * FROM table\n",
    "WHERE col_name BETWEEN low AND hight; \n",
    "\n",
    "SELECT * FROM table\n",
    "WHERE col_name BETWEEN '2020-10-08'AND '2020-11-08';\n",
    "\n",
    "\n",
    "SELECT * FROM table\n",
    "WHERE col_name BETWEEN 5 AND 55; "
   ]
  },
  {
   "cell_type": "markdown",
   "metadata": {},
   "source": [
    "## Like"
   ]
  },
  {
   "cell_type": "code",
   "execution_count": null,
   "metadata": {},
   "outputs": [],
   "source": [
    "SELECT * FROM table\n",
    "WHERE col_name LIKE 'W%'; # start by W\n",
    "\n",
    "\n",
    "SELECT * FROM table\n",
    "WHERE col_name LIKE '%C'; # end by C\n",
    "\n",
    "\n",
    "SELECT * FROM table\n",
    "WHERE col_name LIKE '%C%'; # contain C"
   ]
  },
  {
   "cell_type": "markdown",
   "metadata": {},
   "source": [
    "## ORDER BY"
   ]
  },
  {
   "cell_type": "code",
   "execution_count": null,
   "metadata": {},
   "outputs": [],
   "source": [
    "SELECT * FROM table\n",
    "ORDER BY col_name ASC;\n",
    "\n",
    "# by default is DESC"
   ]
  },
  {
   "cell_type": "markdown",
   "metadata": {},
   "source": [
    "## Unique values\n"
   ]
  },
  {
   "cell_type": "code",
   "execution_count": null,
   "metadata": {},
   "outputs": [],
   "source": [
    "SELECT DISTINCT(col_name) FROM table # remove duplicates\n",
    "\n",
    "\n",
    "SELECT DISTINCT(col_name) FROM table\n",
    "WHERE col_name BETWEEN x AND y"
   ]
  },
  {
   "cell_type": "markdown",
   "metadata": {},
   "source": [
    "## Limit"
   ]
  },
  {
   "cell_type": "code",
   "execution_count": null,
   "metadata": {},
   "outputs": [],
   "source": [
    "SELECT col_name FROM table \n",
    "LIMIT(5)# return 5 rows\n",
    "\n",
    "SELECT col_name FROM table \n",
    "\n",
    "LIMIT(5)# return 5 rows\n"
   ]
  }
 ],
 "metadata": {
  "kernelspec": {
   "display_name": "Python 3",
   "language": "python",
   "name": "python3"
  },
  "language_info": {
   "codemirror_mode": {
    "name": "ipython",
    "version": 3
   },
   "file_extension": ".py",
   "mimetype": "text/x-python",
   "name": "python",
   "nbconvert_exporter": "python",
   "pygments_lexer": "ipython3",
   "version": "3.7.7"
  }
 },
 "nbformat": 4,
 "nbformat_minor": 4
}
